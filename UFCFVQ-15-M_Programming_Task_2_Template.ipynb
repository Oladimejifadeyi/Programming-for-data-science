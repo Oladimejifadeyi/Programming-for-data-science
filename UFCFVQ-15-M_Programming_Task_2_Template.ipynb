{
 "cells": [
  {
   "cell_type": "markdown",
   "metadata": {
    "deletable": false
   },
   "source": [
    "# UFCFVQ-15-M Programming for Data Science (Autumn 2021)\n",
    "# Programming Task 2\n",
    "\n",
    "## Student Id: 21045690"
   ]
  },
  {
   "cell_type": "markdown",
   "metadata": {
    "deletable": false
   },
   "source": [
    "### Requirement FR9 - Read CSV data from two files and merge it into a single Data Frame "
   ]
  },
  {
   "cell_type": "code",
   "execution_count": 60,
   "metadata": {},
   "outputs": [
    {
     "name": "stdout",
     "output_type": "stream",
     "text": [
      "<class 'pandas.core.frame.DataFrame'>\n",
      "Int64Index: 51 entries, 0 to 50\n",
      "Data columns (total 11 columns):\n",
      " #   Column                                    Non-Null Count  Dtype  \n",
      "---  ------                                    --------------  -----  \n",
      " 0   region                                    51 non-null     int64  \n",
      " 1   median_household_income                   51 non-null     int64  \n",
      " 2   share_unemployed_seasonal                 51 non-null     float64\n",
      " 3   share_population_in_metro_areas           51 non-null     float64\n",
      " 4   share_population_with_high_school_degree  51 non-null     float64\n",
      " 5   share_non_citizen                         48 non-null     float64\n",
      " 6   share_white_poverty                       51 non-null     float64\n",
      " 7   gini_index                                51 non-null     float64\n",
      " 8   share_non_white                           51 non-null     float64\n",
      " 9   share_voters_voted_to_the_right           51 non-null     float64\n",
      " 10  avg_biascrimes_per_100k                   50 non-null     float64\n",
      "dtypes: float64(9), int64(2)\n",
      "memory usage: 4.8 KB\n"
     ]
    },
    {
     "data": {
      "text/html": [
       "<div>\n",
       "<style scoped>\n",
       "    .dataframe tbody tr th:only-of-type {\n",
       "        vertical-align: middle;\n",
       "    }\n",
       "\n",
       "    .dataframe tbody tr th {\n",
       "        vertical-align: top;\n",
       "    }\n",
       "\n",
       "    .dataframe thead th {\n",
       "        text-align: right;\n",
       "    }\n",
       "</style>\n",
       "<table border=\"1\" class=\"dataframe\">\n",
       "  <thead>\n",
       "    <tr style=\"text-align: right;\">\n",
       "      <th></th>\n",
       "      <th>region</th>\n",
       "      <th>median_household_income</th>\n",
       "      <th>share_unemployed_seasonal</th>\n",
       "      <th>share_population_in_metro_areas</th>\n",
       "      <th>share_population_with_high_school_degree</th>\n",
       "      <th>share_non_citizen</th>\n",
       "      <th>share_white_poverty</th>\n",
       "      <th>gini_index</th>\n",
       "      <th>share_non_white</th>\n",
       "      <th>share_voters_voted_to_the_right</th>\n",
       "      <th>avg_biascrimes_per_100k</th>\n",
       "    </tr>\n",
       "  </thead>\n",
       "  <tbody>\n",
       "    <tr>\n",
       "      <th>0</th>\n",
       "      <td>1</td>\n",
       "      <td>42278</td>\n",
       "      <td>0.060</td>\n",
       "      <td>0.64</td>\n",
       "      <td>0.821</td>\n",
       "      <td>0.02</td>\n",
       "      <td>0.12</td>\n",
       "      <td>0.472</td>\n",
       "      <td>0.35</td>\n",
       "      <td>0.63</td>\n",
       "      <td>1.806410</td>\n",
       "    </tr>\n",
       "    <tr>\n",
       "      <th>1</th>\n",
       "      <td>2</td>\n",
       "      <td>67629</td>\n",
       "      <td>0.064</td>\n",
       "      <td>0.63</td>\n",
       "      <td>0.914</td>\n",
       "      <td>0.04</td>\n",
       "      <td>0.06</td>\n",
       "      <td>0.422</td>\n",
       "      <td>0.42</td>\n",
       "      <td>0.53</td>\n",
       "      <td>1.656700</td>\n",
       "    </tr>\n",
       "    <tr>\n",
       "      <th>2</th>\n",
       "      <td>3</td>\n",
       "      <td>49254</td>\n",
       "      <td>0.063</td>\n",
       "      <td>0.90</td>\n",
       "      <td>0.842</td>\n",
       "      <td>0.10</td>\n",
       "      <td>0.09</td>\n",
       "      <td>0.455</td>\n",
       "      <td>0.49</td>\n",
       "      <td>0.50</td>\n",
       "      <td>3.413928</td>\n",
       "    </tr>\n",
       "    <tr>\n",
       "      <th>3</th>\n",
       "      <td>4</td>\n",
       "      <td>44922</td>\n",
       "      <td>0.052</td>\n",
       "      <td>0.69</td>\n",
       "      <td>0.824</td>\n",
       "      <td>0.04</td>\n",
       "      <td>0.12</td>\n",
       "      <td>0.458</td>\n",
       "      <td>0.26</td>\n",
       "      <td>0.60</td>\n",
       "      <td>0.869209</td>\n",
       "    </tr>\n",
       "    <tr>\n",
       "      <th>4</th>\n",
       "      <td>5</td>\n",
       "      <td>60487</td>\n",
       "      <td>0.059</td>\n",
       "      <td>0.97</td>\n",
       "      <td>0.806</td>\n",
       "      <td>0.13</td>\n",
       "      <td>0.09</td>\n",
       "      <td>0.471</td>\n",
       "      <td>0.61</td>\n",
       "      <td>0.33</td>\n",
       "      <td>2.397986</td>\n",
       "    </tr>\n",
       "  </tbody>\n",
       "</table>\n",
       "</div>"
      ],
      "text/plain": [
       "   region  ...  avg_biascrimes_per_100k\n",
       "0       1  ...                 1.806410\n",
       "1       2  ...                 1.656700\n",
       "2       3  ...                 3.413928\n",
       "3       4  ...                 0.869209\n",
       "4       5  ...                 2.397986\n",
       "\n",
       "[5 rows x 11 columns]"
      ]
     },
     "execution_count": 60,
     "metadata": {},
     "output_type": "execute_result"
    }
   ],
   "source": [
    "#import pandas\n",
    "import pandas as pd\n",
    "# read the two csv files into a two data frames df and df1\n",
    "df = pd.read_csv('task2a.csv')\n",
    "df1 = pd.read_csv('task2b.csv')\n",
    "\n",
    "# merge the data frame df and df1\n",
    "df2 = df.merge(df1, on= 'region') \n",
    "\n",
    "# check info of the merged data frame\n",
    "df2.info()\n",
    "\n",
    "# call on th merged  data frame\n",
    "df2.head()"
   ]
  },
  {
   "cell_type": "markdown",
   "metadata": {
    "deletable": false
   },
   "source": [
    "<p style=\"color:red; font-weight:bold; font-size:xx-small\">MARK: __%</p>\n",
    "<p style=\"color:red; font-weight:bold; font-size:xx-small\">FEEDBACK: </p>"
   ]
  },
  {
   "cell_type": "markdown",
   "metadata": {
    "deletable": false
   },
   "source": [
    "### Requirement FR10 - Clean the merged data"
   ]
  },
  {
   "cell_type": "code",
   "execution_count": 61,
   "metadata": {},
   "outputs": [
    {
     "data": {
      "text/html": [
       "<div>\n",
       "<style scoped>\n",
       "    .dataframe tbody tr th:only-of-type {\n",
       "        vertical-align: middle;\n",
       "    }\n",
       "\n",
       "    .dataframe tbody tr th {\n",
       "        vertical-align: top;\n",
       "    }\n",
       "\n",
       "    .dataframe thead th {\n",
       "        text-align: right;\n",
       "    }\n",
       "</style>\n",
       "<table border=\"1\" class=\"dataframe\">\n",
       "  <thead>\n",
       "    <tr style=\"text-align: right;\">\n",
       "      <th></th>\n",
       "      <th>region</th>\n",
       "      <th>median_household_income</th>\n",
       "      <th>share_unemployed_seasonal</th>\n",
       "      <th>share_population_in_metro_areas</th>\n",
       "      <th>share_population_with_high_school_degree</th>\n",
       "      <th>share_non_citizen</th>\n",
       "      <th>share_white_poverty</th>\n",
       "      <th>gini_index</th>\n",
       "      <th>share_non_white</th>\n",
       "      <th>avg_biascrimes_per_100k</th>\n",
       "    </tr>\n",
       "  </thead>\n",
       "  <tbody>\n",
       "    <tr>\n",
       "      <th>count</th>\n",
       "      <td>47.000000</td>\n",
       "      <td>47.000000</td>\n",
       "      <td>47.000000</td>\n",
       "      <td>47.000000</td>\n",
       "      <td>47.000000</td>\n",
       "      <td>47.000000</td>\n",
       "      <td>47.000000</td>\n",
       "      <td>47.000000</td>\n",
       "      <td>47.000000</td>\n",
       "      <td>47.000000</td>\n",
       "    </tr>\n",
       "    <tr>\n",
       "      <th>mean</th>\n",
       "      <td>26.106383</td>\n",
       "      <td>55423.340426</td>\n",
       "      <td>0.050085</td>\n",
       "      <td>0.765957</td>\n",
       "      <td>0.868426</td>\n",
       "      <td>0.054043</td>\n",
       "      <td>0.090851</td>\n",
       "      <td>0.454511</td>\n",
       "      <td>0.310426</td>\n",
       "      <td>2.379352</td>\n",
       "    </tr>\n",
       "    <tr>\n",
       "      <th>std</th>\n",
       "      <td>15.151746</td>\n",
       "      <td>8817.840427</td>\n",
       "      <td>0.010523</td>\n",
       "      <td>0.177233</td>\n",
       "      <td>0.033165</td>\n",
       "      <td>0.031184</td>\n",
       "      <td>0.024122</td>\n",
       "      <td>0.021235</td>\n",
       "      <td>0.149389</td>\n",
       "      <td>1.744572</td>\n",
       "    </tr>\n",
       "    <tr>\n",
       "      <th>min</th>\n",
       "      <td>1.000000</td>\n",
       "      <td>39552.000000</td>\n",
       "      <td>0.028000</td>\n",
       "      <td>0.310000</td>\n",
       "      <td>0.799000</td>\n",
       "      <td>0.010000</td>\n",
       "      <td>0.040000</td>\n",
       "      <td>0.419000</td>\n",
       "      <td>0.060000</td>\n",
       "      <td>0.266941</td>\n",
       "    </tr>\n",
       "    <tr>\n",
       "      <th>25%</th>\n",
       "      <td>13.500000</td>\n",
       "      <td>48657.000000</td>\n",
       "      <td>0.042500</td>\n",
       "      <td>0.640000</td>\n",
       "      <td>0.840500</td>\n",
       "      <td>0.030000</td>\n",
       "      <td>0.075000</td>\n",
       "      <td>0.440000</td>\n",
       "      <td>0.200000</td>\n",
       "      <td>1.303706</td>\n",
       "    </tr>\n",
       "    <tr>\n",
       "      <th>50%</th>\n",
       "      <td>27.000000</td>\n",
       "      <td>55173.000000</td>\n",
       "      <td>0.051000</td>\n",
       "      <td>0.800000</td>\n",
       "      <td>0.874000</td>\n",
       "      <td>0.040000</td>\n",
       "      <td>0.090000</td>\n",
       "      <td>0.455000</td>\n",
       "      <td>0.280000</td>\n",
       "      <td>1.937083</td>\n",
       "    </tr>\n",
       "    <tr>\n",
       "      <th>75%</th>\n",
       "      <td>38.500000</td>\n",
       "      <td>60719.000000</td>\n",
       "      <td>0.057500</td>\n",
       "      <td>0.900000</td>\n",
       "      <td>0.897000</td>\n",
       "      <td>0.080000</td>\n",
       "      <td>0.100000</td>\n",
       "      <td>0.466500</td>\n",
       "      <td>0.420000</td>\n",
       "      <td>3.168247</td>\n",
       "    </tr>\n",
       "    <tr>\n",
       "      <th>max</th>\n",
       "      <td>51.000000</td>\n",
       "      <td>76165.000000</td>\n",
       "      <td>0.073000</td>\n",
       "      <td>1.000000</td>\n",
       "      <td>0.918000</td>\n",
       "      <td>0.130000</td>\n",
       "      <td>0.170000</td>\n",
       "      <td>0.532000</td>\n",
       "      <td>0.630000</td>\n",
       "      <td>10.953480</td>\n",
       "    </tr>\n",
       "  </tbody>\n",
       "</table>\n",
       "</div>"
      ],
      "text/plain": [
       "          region  ...  avg_biascrimes_per_100k\n",
       "count  47.000000  ...                47.000000\n",
       "mean   26.106383  ...                 2.379352\n",
       "std    15.151746  ...                 1.744572\n",
       "min     1.000000  ...                 0.266941\n",
       "25%    13.500000  ...                 1.303706\n",
       "50%    27.000000  ...                 1.937083\n",
       "75%    38.500000  ...                 3.168247\n",
       "max    51.000000  ...                10.953480\n",
       "\n",
       "[8 rows x 10 columns]"
      ]
     },
     "execution_count": 61,
     "metadata": {},
     "output_type": "execute_result"
    }
   ],
   "source": [
    "# remove rows containing missing values from the data frame df2\n",
    "\n",
    "df2.dropna(axis= 0, inplace= True)\n",
    "\n",
    "# remove column 'share_voters-voted_to_the_right'\n",
    "df2.drop('share_voters_voted_to_the_right', axis = 1, inplace= True)\n",
    "\n",
    "# check the statistcal description of the data frame \n",
    "\n",
    "df2.describe()\n",
    "\n",
    "# check info of the clean merged data frame\n",
    "#df2.info() \n",
    "\n",
    "# call on the clean merged data frame\n",
    "#df2.head() "
   ]
  },
  {
   "cell_type": "markdown",
   "metadata": {
    "deletable": false
   },
   "source": [
    "<p style=\"color:red; font-weight:bold; font-size:xx-small\">MARK: __%</p>\n",
    "<p style=\"color:red; font-weight:bold; font-size:xx-small\">FEEDBACK: </p>"
   ]
  },
  {
   "cell_type": "markdown",
   "metadata": {
    "deletable": false
   },
   "source": [
    "### Requirement FR11 - Investigate the effects of household income on levels of bias crimes"
   ]
  },
  {
   "cell_type": "code",
   "execution_count": 49,
   "metadata": {},
   "outputs": [
    {
     "data": {
      "text/plain": [
       "Text(0.5, 1.0, 'Median Household Income VS Average Bias Crime')"
      ]
     },
     "execution_count": 49,
     "metadata": {},
     "output_type": "execute_result"
    },
    {
     "data": {
      "image/png": "[encoded data removed]",
      "text/plain": [
       "<Figure size 360x360 with 1 Axes>"
      ]
     },
     "metadata": {},
     "output_type": "display_data"
    }
   ],
   "source": [
    "import matplotlib.pyplot as plt \n",
    "%matplotlib inline \n",
    "import seaborn as sns\n",
    "sns.set_style(\"darkgrid\")\n",
    "sns.set_palette(\"seismic\")\n",
    "sns.lmplot(x= 'median_household_income', y = 'avg_biascrimes_per_100k', data = df2) \n",
    "plt.title('Median Household Income VS Average Bias Crime')\n",
    "# The plot suggest that there is no significant correlation between median household income and average bias crime\n",
    "# The plot shows that there is no pattern between the two variables\n",
    "# The plot shows that the points are scattered with one outlier \n"
   ]
  },
  {
   "cell_type": "markdown",
   "metadata": {
    "deletable": false
   },
   "source": [
    "<p style=\"color:red; font-weight:bold; font-size:xx-small\">MARK: __%</p>\n",
    "<p style=\"color:red; font-weight:bold; font-size:xx-small\">FEEDBACK: </p>"
   ]
  },
  {
   "cell_type": "markdown",
   "metadata": {
    "deletable": false
   },
   "source": [
    "### Requirement FR12 - Test the hypothesis that household income has no effect on levels of bias crime"
   ]
  },
  {
   "cell_type": "code",
   "execution_count": 11,
   "metadata": {},
   "outputs": [
    {
     "name": "stdout",
     "output_type": "stream",
     "text": [
      "                               OLS Regression Results                              \n",
      "===================================================================================\n",
      "Dep. Variable:     median_household_income   R-squared:                       0.088\n",
      "Model:                                 OLS   Adj. R-squared:                  0.067\n",
      "Method:                      Least Squares   F-statistic:                     4.316\n",
      "Date:                     Mon, 24 Jan 2022   Prob (F-statistic):             0.0435\n",
      "Time:                             20:42:34   Log-Likelihood:                -491.01\n",
      "No. Observations:                       47   AIC:                             986.0\n",
      "Df Residuals:                           45   BIC:                             989.7\n",
      "Df Model:                                1                                         \n",
      "Covariance Type:                 nonrobust                                         \n",
      "===========================================================================================\n",
      "                              coef    std err          t      P>|t|      [0.025      0.975]\n",
      "-------------------------------------------------------------------------------------------\n",
      "Intercept                5.187e+04   2115.635     24.515      0.000    4.76e+04    5.61e+04\n",
      "avg_biascrimes_per_100k  1495.1989    719.750      2.077      0.044      45.549    2944.849\n",
      "==============================================================================\n",
      "Omnibus:                        1.169   Durbin-Watson:                   1.954\n",
      "Prob(Omnibus):                  0.557   Jarque-Bera (JB):                0.853\n",
      "Skew:                           0.329   Prob(JB):                        0.653\n",
      "Kurtosis:                       2.962   Cond. No.                         5.40\n",
      "==============================================================================\n",
      "\n",
      "Notes:\n",
      "[1] Standard Errors assume that the covariance matrix of the errors is correctly specified.\n",
      "\n",
      " \n",
      " THE CORRELATION TABLE FOR MEDIAN HOUSEHOLD INCOME AND AVG BIAS CRIME \n",
      "                          median_household_income  avg_biascrimes_per_100k\n",
      "median_household_income                 1.000000                 0.295819\n",
      "avg_biascrimes_per_100k                 0.295819                 1.000000\n"
     ]
    }
   ],
   "source": [
    "# Using regression analysis model\n",
    "# import statsmodel\n",
    "\n",
    "import statsmodels.formula.api as smf\n",
    "reg = 'median_household_income ~ avg_biascrimes_per_100k'\n",
    "regoutput = smf.ols(reg,df2).fit() \n",
    "print(regoutput.summary())\n",
    "\n",
    "# using the corr function to check for correlation\n",
    "correlation = df2[['median_household_income', 'avg_biascrimes_per_100k']].corr()\n",
    "print('\\n \\n THE CORRELATION TABLE FOR MEDIAN HOUSEHOLD INCOME AND AVG BIAS CRIME \\n', correlation) \n",
    "\n",
    "# The correlation value between the two variables is 0.295819. This shows that there is no significant \n",
    "# relationship between the two variables\n",
    "# From the OLS Regression results the R-squared which means the coefficient of determination is 0.088\n",
    "# that means the regression model explains 8.8 percent of the variability in the response. \n",
    "# The R-squared value is meant to show us how good the model will work, but in this case the value is very small\n",
    "# which means our model might not be good enough\n",
    "# The P value is less than 0.05 which is significant\n",
    "# In conclusion, our model doesn't explain much on the variability but it is significant.\n",
    "# The equation of the model is median_househould_income = 5.187e+04 + 1495.1989(avg_biascrimes_per_100k)"
   ]
  },
  {
   "cell_type": "markdown",
   "metadata": {
    "deletable": false
   },
   "source": [
    "<p style=\"color:red; font-weight:bold; font-size:xx-small\">MARK: __%</p>\n",
    "<p style=\"color:red; font-weight:bold; font-size:xx-small\">FEEDBACK: </p>"
   ]
  },
  {
   "cell_type": "markdown",
   "metadata": {
    "deletable": false
   },
   "source": [
    "### Requirement FR13 - Investigate the effects of urbanisation on levels of bias crimes"
   ]
  },
  {
   "cell_type": "code",
   "execution_count": 50,
   "metadata": {},
   "outputs": [
    {
     "data": {
      "text/plain": [
       "Text(0.5, 1.0, 'Shared Population In Metro Areas VS Average Bias Crime')"
      ]
     },
     "execution_count": 50,
     "metadata": {},
     "output_type": "execute_result"
    },
    {
     "data": {
      "image/png": "[encoded data removed]",
      "text/plain": [
       "<Figure size 360x360 with 1 Axes>"
      ]
     },
     "metadata": {},
     "output_type": "display_data"
    }
   ],
   "source": [
    "sns.set_style(\"darkgrid\")\n",
    "sns.set_palette(\"Greens_r\")\n",
    "sns.lmplot(x= 'share_population_in_metro_areas', y = 'avg_biascrimes_per_100k', data = df2)\n",
    "plt.title('Shared Population In Metro Areas VS Average Bias Crime')\n",
    "\n",
    "# the plot shows that there is no significant correlation between shared population in metro areas and average bias\n",
    "# crime \n",
    "# the plot also shows that shared population increases as average biased crime increase from the start \n",
    "# Then as shared population continues to increase it shows there's no pattern between the two variables \n",
    "# The plot shows one outlier"
   ]
  },
  {
   "cell_type": "markdown",
   "metadata": {
    "deletable": false
   },
   "source": [
    "<p style=\"color:red; font-weight:bold; font-size:xx-small\">MARK: __%</p>\n",
    "<p style=\"color:red; font-weight:bold; font-size:xx-small\">FEEDBACK: </p>"
   ]
  },
  {
   "cell_type": "markdown",
   "metadata": {
    "deletable": false
   },
   "source": [
    "### Requirement FR14 - Test the hypothesis that urbanisation has a significant effect on levels of bias crimes"
   ]
  },
  {
   "cell_type": "code",
   "execution_count": 13,
   "metadata": {},
   "outputs": [
    {
     "name": "stdout",
     "output_type": "stream",
     "text": [
      "                                   OLS Regression Results                                  \n",
      "===========================================================================================\n",
      "Dep. Variable:     share_population_in_metro_areas   R-squared:                       0.044\n",
      "Model:                                         OLS   Adj. R-squared:                  0.023\n",
      "Method:                              Least Squares   F-statistic:                     2.065\n",
      "Date:                             Mon, 24 Jan 2022   Prob (F-statistic):              0.158\n",
      "Time:                                     21:10:14   Log-Likelihood:                 16.193\n",
      "No. Observations:                               47   AIC:                            -28.39\n",
      "Df Residuals:                                   45   BIC:                            -24.69\n",
      "Df Model:                                        1                                         \n",
      "Covariance Type:                         nonrobust                                         \n",
      "===========================================================================================\n",
      "                              coef    std err          t      P>|t|      [0.025      0.975]\n",
      "-------------------------------------------------------------------------------------------\n",
      "Intercept                   0.7153      0.044     16.434      0.000       0.628       0.803\n",
      "avg_biascrimes_per_100k     0.0213      0.015      1.437      0.158      -0.009       0.051\n",
      "==============================================================================\n",
      "Omnibus:                        6.352   Durbin-Watson:                   1.662\n",
      "Prob(Omnibus):                  0.042   Jarque-Bera (JB):                5.719\n",
      "Skew:                          -0.850   Prob(JB):                       0.0573\n",
      "Kurtosis:                       3.174   Cond. No.                         5.40\n",
      "==============================================================================\n",
      "\n",
      "Notes:\n",
      "[1] Standard Errors assume that the covariance matrix of the errors is correctly specified.\n",
      "\n",
      " \n",
      " THE CORRELATION TABLE FOR SHARED POPULATION IN METRO AREAS AND AVG BIAS CRIME \n",
      "                                  share_population_in_metro_areas  avg_biascrimes_per_100k\n",
      "share_population_in_metro_areas                         1.000000                 0.209463\n",
      "avg_biascrimes_per_100k                                 0.209463                 1.000000\n"
     ]
    }
   ],
   "source": [
    "# Using regression analysis\n",
    "reg1 = 'share_population_in_metro_areas ~ avg_biascrimes_per_100k'\n",
    "regoutput1 = smf.ols(reg1,df2).fit() \n",
    "\n",
    "# using the corr function to check for correlation\n",
    "\n",
    "correlation1 = df2[['share_population_in_metro_areas','avg_biascrimes_per_100k']].corr()\n",
    "print(regoutput1.summary())\n",
    "print('\\n \\n THE CORRELATION TABLE FOR SHARED POPULATION IN METRO AREAS AND AVG BIAS CRIME \\n', correlation1) \n",
    "\n",
    "# The correlation value between the two variables is 0.209463. This shows that there is no significant \n",
    "# relationship between the two variables\n",
    "# From the OLS Regression results the R-squared which means the coefficient of determination is 0.044 \n",
    "# that means the regression model explains 4.4 percent of the variability in the response\n",
    "# The R-squared value is meant to show us how good the model will work, but in this case the value is very small\n",
    "# which means our model might not be good enough\n",
    "# The P value is greater than 0.05 which is not significant\n",
    "# In conclusion, our model doesn't explain much on the variability and also it is not significant.\n",
    "# The equation of the model is share_population_in_metro_areas = 0.7153 + 0.0213(avg_biascrimes_per_100k)"
   ]
  },
  {
   "cell_type": "markdown",
   "metadata": {
    "deletable": false
   },
   "source": [
    "<p style=\"color:red; font-weight:bold; font-size:xx-small\">MARK: __%</p>\n",
    "<p style=\"color:red; font-weight:bold; font-size:xx-small\">FEEDBACK: </p>"
   ]
  },
  {
   "cell_type": "markdown",
   "metadata": {
    "deletable": false
   },
   "source": [
    "# Coding Standards\n",
    "<p style=\"color:red; font-weight:bold; font-size:xx-small\">MARK: __%</p>\n",
    "<p style=\"color:red; font-weight:bold; font-size:xx-small\">FEEDBACK: </p>"
   ]
  },
  {
   "cell_type": "markdown",
   "metadata": {},
   "source": [
    "# Process Development Report for Task 2\n"
   ]
  },
  {
   "cell_type": "markdown",
   "metadata": {},
   "source": [
    "# Task 2\n",
    "\n",
    "\n",
    "**This is task I enjoyed most in the assignment because I have a good knowledge of pandas having done a course; Data Analysis With Pandas And Python prior to resumption of the sessions except for the statistical part of the task where I had refer to my Statistical Inference note, google search and check youtube on how to check for correlation between two variables and methods to use.** \n",
    "\n",
    "**The first question for task 2 was direct, reading two csv data from two files and then merging. I read the two files separately into two separate data frames then I merged them using the merge() function on the column (region), both data frames df and df1 have a common column(region). Another method that can be used to merge is the pd.merge() function.** \n",
    "\n",
    "**The second question was to clean the merged data that is remove row containing missing values and the column 'share_voters_voted_to_the_right' the method used to remove unwanted row and column is the dropna() and drop() method and setting the axis as 0 (row) or 1 (column) and setting the inplace parameter to \"TRUE\" to effect changes on the operation. Using the dropna() method for rows and drop() for column and setting inplace parameter to \"TRUE\" is the only way to permanently remove unwanted rows or columns in a data frame.**\n",
    "\n",
    "**The third question was to visualise the variables x= 'median_household_income', y = 'avg_biascrimes_per_100k' using matplotlib or seaborn. I plotted a series of graphs using both matplotlib and seaborn but after much comparison on which visual tool to use, I decided to use seaborn because the graphs output were more colourful compared to the graphs output of matplotlib.** \n",
    "\n",
    "**For the fourth question, which is to test if there is any significant correlation between 'median_household_income' and 'avg_biascrimes_per_100k'. I had to refer to the web to check for examples on how to check for correlation between two variables, the most common method I saw was using the corr() function and other statistical methods which I wasn't sure solved the question. I had to settle on using both a regression analysis model and the corr() method. I used the regression analysis model to show if there is a linear relationship between the two variables 'median_household_income' and 'avg_biascrimes_per_100k'. I imported Statsmodel to perform linear regression, another method that can be used is the Sci-kit method to perform linear regression.**\n",
    "\n",
    "\n",
    "**The fifth question for Task 2 is similar to the third question just that we are concerned about different variables. I used the approach I used in solving the third question. I only changed the  palette colour.** \n",
    "\n",
    "**The last question for Task 2 is also similar to the fourth question. I used the regression analysis model and the corr() function on the selected variable as I did in the fourth question of Task 2.**\n",
    "\n",
    "\n"
   ]
  },
  {
   "cell_type": "markdown",
   "metadata": {},
   "source": [
    "<p style=\"color:red; font-weight:bold; font-size:xx-small\">MARK: __%</p>\n",
    "<p style=\"color:red; font-weight:bold; font-size:xx-small\">FEEDBACK: </p>"
   ]
  }
 ],
 "metadata": {
  "kernelspec": {
   "display_name": "Python 3",
   "language": "python",
   "name": "python3"
  },
  "language_info": {
   "codemirror_mode": {
    "name": "ipython",
    "version": 3
   },
   "file_extension": ".py",
   "mimetype": "text/x-python",
   "name": "python",
   "nbconvert_exporter": "python",
   "pygments_lexer": "ipython3",
   "version": "3.8.8"
  }
 },
 "nbformat": 4,
 "nbformat_minor": 4
}

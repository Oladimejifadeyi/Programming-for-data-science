{
 "cells": [
  {
   "cell_type": "markdown",
   "metadata": {},
   "source": [
    "# UFCFVQ-15-M Programming for Data Science (Autumn 2021)\n",
    "# Programming Task 1\n",
    "\n",
    "## Student Id: 21045690"
   ]
  },
  {
   "cell_type": "markdown",
   "metadata": {
    "deletable": false
   },
   "source": [
    "<p style=\"color:red; font-weight:bold; font-size:xx-small\">OVERALL COURSEWORK MARK: ___%</p>"
   ]
  },
  {
   "cell_type": "markdown",
   "metadata": {
    "deletable": false
   },
   "source": [
    "### Requirement FR1 - Develop a function to find the arithmetic mean"
   ]
  },
  {
   "cell_type": "code",
   "execution_count": 54,
   "metadata": {},
   "outputs": [
    {
     "name": "stdout",
     "output_type": "stream",
     "text": [
      "15.333333333333334\n"
     ]
    }
   ],
   "source": [
    "# add code here\n",
    "my_list = [6, 2, 22, 21, 24, 23, 8, 9, 5, 3, 11, 28, 14, 13, 12, 26, 29, 16, 15, 20, 25, 1, 10, 18, 27, 19, 7]\n",
    "\n",
    "def arithmetic_mean(my_list):\n",
    "    \n",
    "# create a variable called mean which takes the summation of the my_list divided by the size of my_list\n",
    "    mean = sum(my_list)/len(my_list)\n",
    "\n",
    "# return mean\n",
    "    return mean\n",
    "\n",
    "# print the function arithmetic mean\n",
    "print(arithmetic_mean(my_list))\n",
    "    \n",
    "    "
   ]
  },
  {
   "cell_type": "markdown",
   "metadata": {
    "deletable": false
   },
   "source": [
    "<p style=\"color:red; font-weight:bold; font-size:xx-small\">MARK: __%</p>\n",
    "<p style=\"color:red; font-weight:bold; font-size:xx-small\">FEEDBACK: </p>"
   ]
  },
  {
   "cell_type": "markdown",
   "metadata": {
    "deletable": false
   },
   "source": [
    "### Requirement FR2 - Develop a function to find the standard deviation"
   ]
  },
  {
   "cell_type": "code",
   "execution_count": 55,
   "metadata": {},
   "outputs": [
    {
     "name": "stdout",
     "output_type": "stream",
     "text": [
      "8.393118874676114\n"
     ]
    }
   ],
   "source": [
    "# add code here\n",
    "my_list = [6, 2, 22, 21, 24, 23, 8, 9, 5, 3, 11, 28, 14, 13, 12, 26, 29, 16, 15, 20, 25, 1, 10, 18, 27, 19, 7]\n",
    "\n",
    "def standard_deviation(my_list):\n",
    "# using the formula for standard deviation which is the the square root of the sum of squared differences from \n",
    "# the mean divided by the size of the data set. \n",
    "# n is the the size of the data set\n",
    "    n = len(my_list)\n",
    "    mean = sum(my_list)/n \n",
    "    a = [(x - mean) ** 2 for x in my_list]\n",
    "    std = (sum(a)/n) ** 0.5\n",
    "    return std \n",
    "# print the function standard deviation\n",
    "print(standard_deviation(my_list))\n",
    "    "
   ]
  },
  {
   "cell_type": "markdown",
   "metadata": {
    "deletable": false
   },
   "source": [
    "<p style=\"color:red; font-weight:bold; font-size:xx-small\">MARK: __%</p>\n",
    "<p style=\"color:red; font-weight:bold; font-size:xx-small\">FEEDBACK: </p>"
   ]
  },
  {
   "cell_type": "markdown",
   "metadata": {
    "deletable": false
   },
   "source": [
    "### Requirement FR3 - Develop a function to find the min/max values and count "
   ]
  },
  {
   "cell_type": "code",
   "execution_count": 56,
   "metadata": {},
   "outputs": [
    {
     "name": "stdout",
     "output_type": "stream",
     "text": [
      "(1, 29, 27)\n"
     ]
    }
   ],
   "source": [
    "# add code here \n",
    "my_list = [6, 2, 22, 21, 24, 23, 8, 9, 5, 3, 11, 28, 14, 13, 12, 26, 29, 16, 15, 20, 25, 1, 10, 18, 27, 19, 7]\n",
    "\n",
    "def min_max_count(my_list):\n",
    "# using min() function to check for minimum value in my_list\n",
    "# using max() function to check for maximum value in my_list\n",
    "# using the len() function to check for count of value in my_list\n",
    "    \n",
    "    minimum = min(my_list)\n",
    "    maximum = max(my_list)\n",
    "    count = len(my_list) \n",
    "    \n",
    "# return the variable assinged to the min(), max() and len() function \n",
    "   \n",
    "    return minimum,maximum,count\n",
    "\n",
    "# print the function min_max_count\n",
    "print(min_max_count(my_list))\n",
    " "
   ]
  },
  {
   "cell_type": "markdown",
   "metadata": {
    "deletable": false
   },
   "source": [
    "<p style=\"color:red; font-weight:bold; font-size:xx-small\">MARK: __%</p>\n",
    "<p style=\"color:red; font-weight:bold; font-size:xx-small\">FEEDBACK: </p>"
   ]
  },
  {
   "cell_type": "markdown",
   "metadata": {
    "deletable": false
   },
   "source": [
    "### Requirement FR4 - Develop a function to find the 25th, 50th and 75th percentiles "
   ]
  },
  {
   "cell_type": "code",
   "execution_count": 64,
   "metadata": {},
   "outputs": [
    {
     "name": "stdout",
     "output_type": "stream",
     "text": [
      "8\n",
      "15\n",
      "23\n"
     ]
    }
   ],
   "source": [
    "# add code here \n",
    "my_list = [6, 2, 22, 21, 24, 23, 8, 9, 5, 3, 11, 28, 14, 13, 12, 26, 29, 16, 15, 20, 25, 1, 10, 18, 27, 19, 7] \n",
    "# Using the percentile formula rank = (percentile/100) × size of list\n",
    "def percentile(my_list, percentile):\n",
    "# arrange my_list in ascending order \n",
    "    \n",
    "    my_list.sort()\n",
    "    \n",
    "# calculating the percentile \n",
    "\n",
    "    rank = round((percentile/100) * (len(my_list)-1))\n",
    "    return(my_list[rank]) \n",
    "\n",
    "#print the function percentile for the 25th, 50th and 75th\n",
    "\n",
    "print(percentile(my_list, 25))\n",
    "print(percentile(my_list, 50))\n",
    "print(percentile(my_list, 75))"
   ]
  },
  {
   "cell_type": "markdown",
   "metadata": {
    "deletable": false
   },
   "source": [
    "<p style=\"color:red; font-weight:bold; font-size:xx-small\">MARK: __%</p>\n",
    "<p style=\"color:red; font-weight:bold; font-size:xx-small\">FEEDBACK: </p>"
   ]
  },
  {
   "cell_type": "markdown",
   "metadata": {
    "deletable": false
   },
   "source": [
    "### Requirement FR5 - Develop a function to read a single column from a CSV file"
   ]
  },
  {
   "cell_type": "code",
   "execution_count": 66,
   "metadata": {
    "scrolled": true
   },
   "outputs": [
    {
     "name": "stdout",
     "output_type": "stream",
     "text": [
      "('Hydropower', ['0.117', '41.64945459', '17.26791', '37.52781287', '1.76795', '0.885632595', '0.45726487', '0.284810423', '387.6868063', '5.125584584', '244.839096', '387.2508762', '23.14438369', '1202.43', '56.64701407', '7.512550207', '0', '1.6272', '0.016454789', '20.69612073', '13.48338', '0.015617162', '38.93203591', '13.27777778', '64.2234218', '16.9', '5.720179713', '0', '0.221', '13.81099543', '139.6678322', '16.4112', '10.77', '3.1074588', '0.694087982', '0.0245', '45.85205715', '80.997', '10.3295118', '0', '2.433342329', '0.45', '0.094557415', '1.791368', '24.17649672', '32.39511459', '1.6934', '0.072348', '26.32037732', '138.4962175', '0', '62.91198244', '35.20305729', '2.255678699', '1.288541272', '0.0165', '69.46684307', '1.852952842', '35.99700727', '30.76868807', '9.383758', '1.971', '12.346', '0', '17.56396055', '190.21311', '0', '0', '3.591', '4.712487886', '0.914864856', '2.920390756', '35.19825724', '6.369370161', '61.91687566', '34.80394017', '4.4661', '7.597013', '0', '59.51828075', '0', '9.900734781', '0', '5.464660531', '288.7063404', '6.868202', '72.08394993', '80.70625435'])\n"
     ]
    }
   ],
   "source": [
    "# add code here\n",
    "def read_csv_column(file, column):\n",
    "# open csv file\n",
    "    with open(file, 'r') as data:\n",
    "# create an empty list called column_data\n",
    "        column_data = []\n",
    "# loop through data\n",
    "        for row in data:\n",
    "# replace next line with empty string and split by delimiter\n",
    "                row = row.replace(\"\\n\",\"\").split(\",\") \n",
    "# append row of each selected column into column_data\n",
    "                column_data.append(row[column])\n",
    "# return column_data[1:] which is the entries and column_data which is counmn names\n",
    "       \n",
    "    return column_data[0],column_data[1:]\n",
    "\n",
    "# returns data in column 3\n",
    "print(read_csv_column('task1.csv', 0))\n",
    "\n"
   ]
  },
  {
   "cell_type": "markdown",
   "metadata": {
    "deletable": false
   },
   "source": [
    "<p style=\"color:red; font-weight:bold; font-size:xx-small\">MARK: __%</p>\n",
    "<p style=\"color:red; font-weight:bold; font-size:xx-small\">FEEDBACK: </p>"
   ]
  },
  {
   "cell_type": "markdown",
   "metadata": {
    "deletable": false
   },
   "source": [
    "### Requirement FR6 - Develop a function to read CSV data from a file into memory"
   ]
  },
  {
   "cell_type": "code",
   "execution_count": 67,
   "metadata": {},
   "outputs": [
    {
     "name": "stdout",
     "output_type": "stream",
     "text": [
      "{'Hydropower': ['0.117', '41.64945459', '17.26791', '37.52781287', '1.76795', '0.885632595', '0.45726487', '0.284810423', '387.6868063', '5.125584584', '244.839096', '387.2508762', '23.14438369', '1202.43', '56.64701407', '7.512550207', '0', '1.6272', '0.016454789', '20.69612073', '13.48338', '0.015617162', '38.93203591', '13.27777778', '64.2234218', '16.9', '5.720179713', '0', '0.221', '13.81099543', '139.6678322', '16.4112', '10.77', '3.1074588', '0.694087982', '0.0245', '45.85205715', '80.997', '10.3295118', '0', '2.433342329', '0.45', '0.094557415', '1.791368', '24.17649672', '32.39511459', '1.6934', '0.072348', '26.32037732', '138.4962175', '0', '62.91198244', '35.20305729', '2.255678699', '1.288541272', '0.0165', '69.46684307', '1.852952842', '35.99700727', '30.76868807', '9.383758', '1.971', '12.346', '0', '17.56396055', '190.21311', '0', '0', '3.591', '4.712487886', '0.914864856', '2.920390756', '35.19825724', '6.369370161', '61.91687566', '34.80394017', '4.4661', '7.597013', '0', '59.51828075', '0', '9.900734781', '0', '5.464660531', '288.7063404', '6.868202', '72.08394993', '80.70625435'], 'Solar': ['0.603', '0.108128528', '12.081099', '1.578641473', '0.03926', '0.299208359', '0.134485968', '3.971724224', '3.137078404', '1.103538835', '0.881300118', '3.5462509', '5.118720829', '177.5', '0.011999821', '0.073591668', '0.19183', '2.3386', '0.952973', '0.037991538', '1.035739071', '0.012679515', '0.441810565', '0.1622', '10.15871272', '46.164', '3.791092002', '0.000961', '0.588876056', '0', '30.73240318', '0.01836', '0.037698887', '0.057143443', '0.022173967', '1.793230515', '23.23072906', '71.6883359', '0.1146904', '0.088143148', '0.001263953', '0.08', '0.117480937', '0.022788', '0.459692933', '2.2428', '0.9502', '3.2012', '0.098244292', '0.064488547', '0.013718674', '0.585723529', '0.01484375', '0.697743206', '3.020039802', '0.111623598', '0.675171297', '0.128029166', '2.12332226', '0.745192715', '1.249117', '0.299', '1.02', '0.009423834', '1.674', '0.57106', '0.154871783', '0.283982555', '0.585', '0.253621', '4.935234819', '9.349876912', '12.52057273', '0.205337811', '0.373100151', '1.957371429', '2.733', '4.719656655', '0.003989071', '7.890694078', '0.00696', '1.286493457', '0.9468835', '12.92181535', '97.11818182', '0', '0.010008089', '0.080231508'], 'Wind': ['0.01', '1.412699784', '16.266484', '5.900014713', '0.0822', '0.005086066', '0.117978175', '7.468573702', '48.47990705', '1.378292235', '0.977082975', '32.17005152', '3.688710149', '366', '0.043437355', '1.379085419', '0.22061', '0.6093', '13.89880328', '0.080257771', '2.438966811', '0.633888557', '0.531134615', '5.857', '28.16738103', '111.59', '6.300269103', '0.000825', '0.608', '0.004365699', '60.31116', '0.198', '0.361973742', '0', '8.390989769', '0.105269485', '17.47251773', '6.789652', '0.5412648', '0.017452186', '0.123287671', '1.145', '0.307147387', '0.097338', '0', '12.62920683', '3.8407', '10.549225', '2.046003874', '3.875881', '0', '0.497064956', '0.0079', '1.428156269', '0.574940541', '0.453', '4.80031359', '0', '1.72268087', '1.493633864', '1.152924', '12.845', '12.657', '0', '6.497', '0.22774', '0', '0', '0.005', '0.006159', '6.894765181', '2.40369047', '50.83600814', '0.305662189', '16.81339144', '0.133', '1.6794', '0.76415852', '0', '19.825697', '0', '1.1274', '0.00075', '57.11571962', '277.7291061', '0', '0', '0.326664064'], 'Other': ['0', '2.29693941', '3.539346', '4.763252129', '0.0811', '0.008019927', '0.109149431', '5.427544126', '52.88998503', '0.496261903', '0.679177831', '9.588635536', '6.737367486', '90.72346175', '2.088838157', '0.682716361', '0.05136', '4.7285', '6.119796142', '0.427967651', '0', '1.369850244', '0.23331662', '12.86168421', '8.521197318', '51.437', '0.298303335', '0.100724044', '2.371182482', '6.009414916', '30.45869682', '14.5368', '0.021740437', '0', '1.242427268', '0.115', '25.31219835', '33.6554308', '0.0024284', '0', '0.962146042', '0.47', '0.226101964', '0.05405', '1.004339878', '6.480283932', '0', '4.875860296', '8.320907599', '0.178266653', '0', '0.163131005', '0.022', '1.39699069', '0.0041', '', '2.647315578', '0.222533905', '1.667658529', '0.674414968', '11.540128', '6.331', '3.439', '0.114486339', '0.4617102', '0.4645', '0', '0.903', '1.419478261', '0.28827567', '0.530431005', '10.1747942', '7.378921565', '0.11339364', '11.85871366', '1.974071402', '2.01435', '12.31650175', '0', '9.983786807', '0', '0.218506543', '0.005983607', '35.58660245', '83.67703684', '0', '0', '0.060833333']}\n"
     ]
    }
   ],
   "source": [
    "# add code here\n",
    "def read_csv(file):\n",
    "# set column count to get the number of column we have\n",
    "    column_count = 0\n",
    "    with open(file, 'r') as csv_file:\n",
    "        column_count = csv_file.readline().count(\",\") + 1\n",
    "        \n",
    "# create a empty dict to read file into    \n",
    "    memory = {}\n",
    "    for x in range(column_count):\n",
    "        data, header = read_csv_column(file, x)\n",
    "        memory[header] = data\n",
    "    return memory\n",
    "            \n",
    "def read_csv_column(file, column):\n",
    "    with open(file, 'r') as csv_file:\n",
    "        column_data = []\n",
    "        for row in csv_file:\n",
    "                row = row.replace(\"\\n\",\"\").split(\",\")\n",
    "                column_data.append(row[column])\n",
    "        return column_data[1:], column_data[0]\n",
    "print(read_csv('task1.csv'))"
   ]
  },
  {
   "cell_type": "markdown",
   "metadata": {
    "deletable": false
   },
   "source": [
    "<p style=\"color:red; font-weight:bold; font-size:xx-small\">MARK: __%</p>\n",
    "<p style=\"color:red; font-weight:bold; font-size:xx-small\">FEEDBACK: </p>"
   ]
  },
  {
   "cell_type": "markdown",
   "metadata": {
    "deletable": false
   },
   "source": [
    "### Requirement FR7 - Develop a function to generate a set of statistics for a given data file"
   ]
  },
  {
   "cell_type": "code",
   "execution_count": 68,
   "metadata": {
    "scrolled": true
   },
   "outputs": [
    {
     "name": "stdout",
     "output_type": "stream",
     "text": [
      "{'Stats': ['Count', 'Mean', 'Stdev', 'Min', '25th', '50th', '75th', 'Max'], 'Hydropower': [88, 48.821284107874995, 143.61156541119564, 0.0, 0.885632595, 7.597013, 35.20305729, 1202.43], 'Solar': [88, 6.617743776193181, 23.050166228825766, 0.0, 0.080231508, 0.585723529, 2.3386, 177.5], 'Wind': [88, 14.380072730647731, 50.17237934719127, 0.0, 0.0822, 0.977082975, 6.497, 366.0], 'Other': [88, 6.934232050284091, 15.838543567520071, 0.0, 0.100724044, 0.903, 6.119796142, 90.72346175]}\n"
     ]
    }
   ],
   "source": [
    "# add code here\n",
    "def stat_func(file):\n",
    "    data = read_csv(file)\n",
    "    memory = {}\n",
    "    memory[\"Stats\"] = [\"Count\",\"Mean\",\"Stdev\",\"Min\",\"25th\",\"50th\",\"75th\",\"Max\"]\n",
    "    \n",
    "    for key, value in data.items():\n",
    "        column_stats = []\n",
    "        sample_data = list(map(float_with_defualt,value))\n",
    "        \n",
    "        minimum,maximum,count = min_max_count(sample_data) \n",
    "    \n",
    "        column_stats.append(count)\n",
    "        column_stats.append(arithmetic_mean(sample_data))\n",
    "        column_stats.append(standard_deviation(sample_data))\n",
    "        column_stats.append(minimum)\n",
    "        column_stats.append(percentile(sample_data, 25))\n",
    "        column_stats.append(percentile(sample_data, 50))\n",
    "        column_stats.append(percentile(sample_data, 75))\n",
    "        column_stats.append(maximum)\n",
    "        memory[key] = column_stats\n",
    "    return memory\n",
    "\n",
    "def float_with_defualt(value):\n",
    "    if value == '':\n",
    "        return 0.0\n",
    "    else:\n",
    "        return float(value)\n",
    "\n",
    "            \n",
    "def arithmetic_mean(my_list):\n",
    "    mean = sum(my_list)/len(my_list)\n",
    "    return mean\n",
    "    \n",
    "def standard_deviation(my_list):\n",
    "    n = len(my_list)\n",
    "    mean = sum(my_list)/n \n",
    "    a = [(x - mean) ** 2 for x in my_list]\n",
    "    std = (sum(a)/n) ** 0.5\n",
    "    return std\n",
    "\n",
    "def min_max_count(my_list):\n",
    "    minimum = min(my_list)\n",
    "    maximum = max(my_list)\n",
    "    count = len(my_list) \n",
    "    return minimum,maximum,count\n",
    "\n",
    "def percentile(my_list, percentile):\n",
    "    my_list.sort()\n",
    "    rank = round((percentile/100) * (len(my_list)-1))\n",
    "    return my_list[rank]\n",
    "\n",
    "def read_csv(file):\n",
    "    column_count = 0\n",
    "    with open(file, 'r') as csv_file:\n",
    "        column_count = csv_file.readline().count(\",\") + 1\n",
    "        \n",
    "    memory = {}\n",
    "    for x in range(column_count):\n",
    "        data, header = read_csv_column(file, x)\n",
    "        memory[header] = data\n",
    "    return memory\n",
    "            \n",
    "def read_csv_column(file, column):\n",
    "    with open(file, 'r') as csv_file:\n",
    "        column_data = []\n",
    "        for row in csv_file:\n",
    "                row = row.replace(\"\\n\",\"\").split(\",\")\n",
    "                column_data.append(row[column])\n",
    "        return column_data[1:], column_data[0]\n",
    "    \n",
    "print(stat_func('task1.csv'))\n"
   ]
  },
  {
   "cell_type": "markdown",
   "metadata": {
    "deletable": false
   },
   "source": [
    "<p style=\"color:red; font-weight:bold; font-size:xx-small\">MARK: __%</p>\n",
    "<p style=\"color:red; font-weight:bold; font-size:xx-small\">FEEDBACK: </p>"
   ]
  },
  {
   "cell_type": "markdown",
   "metadata": {
    "deletable": false
   },
   "source": [
    "### Requirement FR8 - Develop a function to print a custom table"
   ]
  },
  {
   "cell_type": "code",
   "execution_count": 159,
   "metadata": {},
   "outputs": [
    {
     "name": "stdout",
     "output_type": "stream",
     "text": [
      "**************************************************************************************************************\n",
      "       Stats         *      Hydropower      *        Solar         *         Wind         *        Other        \n",
      "       Count         *          88          *          88          *          88          *          88         \n",
      "        Mean         *  48.821284107874995  *  6.617743776193181   *  14.380072730647731  *  6.934232050284091  \n",
      "       Stdev         *  143.61156541119564  *  23.050166228825766  *  50.17237934719127   *  15.838543567520071 \n",
      "        Min          *         0.0          *         0.0          *         0.0          *         0.0         \n",
      "        25th         *     0.885632595      *     0.080231508      *        0.0822        *     0.100724044     \n",
      "        50th         *       7.597013       *     0.585723529      *     0.977082975      *        0.903        \n",
      "        75th         *     35.20305729      *        2.3386        *        6.497         *     6.119796142     \n",
      "        Max          *       1202.43        *        177.5         *        366.0         *     90.72346175     \n",
      "**************************************************************************************************************\n"
     ]
    }
   ],
   "source": [
    "def table(file, border_char = '%', width=20):\n",
    "    custom_border = border_char * 110\n",
    "    #read the function value to variable\n",
    "    stats = stat_func(file) \n",
    "    print(\"{:^}\".format(custom_border)) \n",
    "    \n",
    "    #print header\n",
    "    column_formatter = \"{:^\" + str(width) +\"}\"\n",
    "    row_divider = \" \" + border_char + \" \"\n",
    "    print( row_divider.join( [column_formatter.format(str(i)) for i in stats.keys()] ) )\n",
    "    \n",
    "    # we need to convert the columns into rows, so we can print them correctly.\n",
    "    # we are centrally aligning the row items and also padding with white space using\n",
    "    # the width provided.\n",
    "    \n",
    "    for row in list(zip(*stats.values())):\n",
    "        print(row_divider.join([column_formatter.format(str(i)) for i in row]))\n",
    "\n",
    "    print(\"{:^}\".format(custom_border))\n",
    "\n",
    "table('task1.csv', border_char= '*', width=20)\n",
    "\n",
    "\n"
   ]
  },
  {
   "cell_type": "markdown",
   "metadata": {
    "deletable": false
   },
   "source": [
    "<p style=\"color:red; font-weight:bold; font-size:xx-small\">MARK: __%</p>\n",
    "<p style=\"color:red; font-weight:bold; font-size:xx-small\">FEEDBACK: </p>"
   ]
  },
  {
   "cell_type": "markdown",
   "metadata": {
    "deletable": false
   },
   "source": [
    "# Coding Standards\n",
    "<p style=\"color:red; font-weight:bold; font-size:xx-small\">MARK: __%</p>\n",
    "<p style=\"color:red; font-weight:bold; font-size:xx-small\">FEEDBACK: </p>"
   ]
  },
  {
   "cell_type": "markdown",
   "metadata": {
    "deletable": false
   },
   "source": [
    "# Process Development Report for Task 1\n"
   ]
  },
  {
   "cell_type": "markdown",
   "metadata": {},
   "source": [
    "# Task 1  \n",
    "\n",
    "**The aim of this task is to help us develop a function that works as and generates the same output as the describe() method in pandas.This is the task that I learned to learn new things. I learnt how to call a function from another function, how to read a csv file without importing the csv module and read a csv file from a file into memory. At first I was asking myself why the tutor instructed us not to use pandas or numpy for the task.  Much later I got to understand why the tutor instructed us to develop or write functions for statistical calculations and generate statistical output without using built-in methods or importing modules. This was for us to see and know the importance of functions in programming. Most importantly, I have been able to develop my own describe() method with a function from the scratch though I need some perfection with my final output** \n",
    "\n",
    "**For question 1, I wrote a function to return the summation of the specified list divided by the size of the list. Which solves the question of writing a function to find the arithmetic mean.** \n",
    "\n",
    "**For question 2 and 4 I had to google search the formulas. Writing a function that finds the standard deviation of the list, using the formula for standard deviation which is the square root of the sum of squared differences from the mean divided by the size of the data set. I used a list comprehension to find the square of the difference of each number from the list and the mean.** \n",
    "\n",
    "**For question 3, I used the min(), max() and len() method to return the minimum number, maximum and count of the list.**\n",
    "\n",
    "**For question 4, I used the formula of how to calculate percentile to return the rank of the list.**\n",
    "\n",
    "**For question 5 and 6, solving this question made me know how to read a csv file, a single column in a csv file and also read a csv file into memory without importing the python csv file.** \n",
    "\n",
    "**For question 7, I was able to call a function from another function or function on another function. Using the functions generated from question 1-4 to generate a statistical output. The illustrations in the question helped me as a guide to know what the output of the solutions should be.**\n",
    "\n",
    "\n",
    "\n",
    "\n"
   ]
  },
  {
   "cell_type": "markdown",
   "metadata": {
    "deletable": false
   },
   "source": [
    "<p style=\"color:red; font-weight:bold; font-size:xx-small\">MARK: __%</p>\n",
    "<p style=\"color:red; font-weight:bold; font-size:xx-small\">FEEDBACK: </p>"
   ]
  }
 ],
 "metadata": {
  "kernelspec": {
   "display_name": "Python 3",
   "language": "python",
   "name": "python3"
  },
  "language_info": {
   "codemirror_mode": {
    "name": "ipython",
    "version": 3
   },
   "file_extension": ".py",
   "mimetype": "text/x-python",
   "name": "python",
   "nbconvert_exporter": "python",
   "pygments_lexer": "ipython3",
   "version": "3.8.8"
  }
 },
 "nbformat": 4,
 "nbformat_minor": 4
}
